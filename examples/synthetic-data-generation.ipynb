{
 "cells": [
  {
   "cell_type": "code",
   "execution_count": 5,
   "id": "4b0dffce-070d-4e26-9660-a80fd896174f",
   "metadata": {
    "tags": []
   },
   "outputs": [],
   "source": [
    "#%pip install git+https://github.com/Watts-Lab/nomad.git@bucephalus"
   ]
  },
  {
   "cell_type": "code",
   "execution_count": 6,
   "id": "20c2bbc9",
   "metadata": {
    "tags": []
   },
   "outputs": [],
   "source": [
    "import pandas as pd\n",
    "import numpy as np\n",
    "import numpy.random as npr\n",
    "from datetime import datetime, timedelta\n",
    "import calendar\n",
    "from pyproj import Transformer\n",
    "from concurrent.futures import ProcessPoolExecutor\n",
    "import concurrent.futures\n",
    "import multiprocessing\n",
    "from functools import partial\n",
    "import copy\n",
    "\n",
    "import nomad.city_gen as cg\n",
    "from nomad.city_gen import City, Building, Street\n",
    "import nomad.traj_gen\n",
    "from nomad.traj_gen import Agent, Population\n",
    "from nomad.constants import DEFAULT_SPEEDS, FAST_SPEEDS, SLOW_SPEEDS, DEFAULT_STILL_PROBS\n",
    "from nomad.constants import FAST_STILL_PROBS, SLOW_STILL_PROBS, ALLOWED_BUILDINGS\n",
    "\n",
    "import os\n",
    "os.environ['TZ'] = 'UTC'"
   ]
  },
  {
   "cell_type": "markdown",
   "id": "f7bd1f76-2bc8-4526-b82b-5ff823b58080",
   "metadata": {},
   "source": [
    "### Generate N agents"
   ]
  },
  {
   "cell_type": "code",
   "execution_count": 3,
   "id": "c61096f8-ac2f-4861-8973-aa29cfe8a583",
   "metadata": {
    "tags": []
   },
   "outputs": [],
   "source": [
    "transformer = Transformer.from_crs(\"EPSG:3857\", \"EPSG:4326\", always_xy=True)\n",
    "\n",
    "\n",
    "def garden_city_to_lat_long(agent, \n",
    "                            sparse_traj=True, \n",
    "                            full_traj=True):\n",
    "    if sparse_traj:\n",
    "        df = agent.sparse_traj\n",
    "        df['x'] = 15*df['x'] + 4265699\n",
    "        df['y'] = 15*df['y'] - 4392976\n",
    "\n",
    "        df['latitude'], df['longitude'] = transformer.transform(\n",
    "            df['x'].values, df['y'].values)\n",
    "\n",
    "        df = df[['identifier', 'unix_timestamp', 'latitude', 'longitude']]\n",
    "        df = df.rename(columns={'identifier': 'uid', 'unix_timestamp': 'timestamp'})\n",
    "        df = df.reset_index(drop=True)\n",
    "\n",
    "        agent.sparse_traj = df\n",
    "\n",
    "    if full_traj:\n",
    "        df = agent.trajectory\n",
    "        df['x'] = 15*df['x'] + 4265699\n",
    "        df['y'] = 15*df['y'] - 4392976\n",
    "\n",
    "        df['latitude'], df['longitude'] = transformer.transform(\n",
    "            df['x'].values, df['y'].values)\n",
    "\n",
    "        df = df[['identifier', 'unix_timestamp', 'latitude', 'longitude']]\n",
    "        df = df.rename(columns={'identifier': 'uid', 'unix_timestamp': 'timestamp'})\n",
    "        df = df.reset_index(drop=True)\n",
    "\n",
    "        agent.trajectory = df\n",
    "    return None"
   ]
  },
  {
   "cell_type": "code",
   "execution_count": 5,
   "id": "313a7903-4257-4932-9bee-42dd1ebaf2c2",
   "metadata": {
    "tags": []
   },
   "outputs": [
    {
     "name": "stdout",
     "output_type": "stream",
     "text": [
      "CPU times: user 1.55 s, sys: 236 ms, total: 1.78 s\n",
      "Wall time: 11.1 s\n"
     ]
    }
   ],
   "source": [
    "%%time\n",
    "\n",
    "N = 1\n",
    "npr.seed(100)\n",
    "\n",
    "city = cg.load('garden-city.pkl')\n",
    "population_n = Population(city)\n",
    "population_n.generate_agents(N,\n",
    "                             start_time=datetime(2024, 1, 1, hour=8, minute=0),\n",
    "                             dt=1, seed=123)\n",
    "\n",
    "def generate_agent_trajectory(agent_id, agent, seed):\n",
    "    \n",
    "    # May want to put more thought into the ranges\n",
    "    beta_start = npr.uniform(60, 1200)\n",
    "    beta_duration = npr.uniform(15, 180)\n",
    "    beta_ping = npr.uniform(5, 30)\n",
    "    \n",
    "    param = (beta_start, beta_duration, beta_ping)\n",
    "    \n",
    "    for month in range(1,13):\n",
    "        days = calendar.monthrange(2024, month)[1]\n",
    "        population_n.generate_trajectory(agent, \n",
    "                                         T=datetime(2024, month, days, hour=23, minute=59), \n",
    "                                         seed=seed)\n",
    "    \n",
    "        agent.sample_traj_hier_nhpp(*param, \n",
    "                                    seed=seed,\n",
    "                                    reset_traj=True,\n",
    "                                    save_to=population_n.all_sparse_trajs)\n",
    "        \n",
    "        garden_city_to_lat_long(agent,\n",
    "                                sparse_traj=True,\n",
    "                                full_traj=False)\n",
    "    \n",
    "    return agent_id, copy.deepcopy(agent)\n",
    "\n",
    "manager = multiprocessing.Manager()\n",
    "shared_roster = manager.dict(population_n.roster)\n",
    "\n",
    "with ProcessPoolExecutor() as executor:\n",
    "    futures = [\n",
    "        executor.submit(generate_agent_trajectory, agent_id, agent, i)\n",
    "        for i, (agent_id, agent) in enumerate(shared_roster.items())\n",
    "    ]\n",
    "    for future in futures:\n",
    "        agent_id, agent = future.result()\n",
    "        shared_roster[agent_id] = agent\n",
    "\n",
    "population_n.roster = dict(shared_roster)\n",
    "\n",
    "population_n.save_pop(bucket='synthetic-raw-data', prefix='1mil-agents/')"
   ]
  },
  {
   "cell_type": "code",
   "execution_count": 6,
   "id": "7850a436-25c8-4b42-b5e3-17a88fb1ec9b",
   "metadata": {
    "tags": []
   },
   "outputs": [
    {
     "ename": "KeyError",
     "evalue": "'agitated_chebyshev'",
     "output_type": "error",
     "traceback": [
      "\u001b[0;31m---------------------------------------------------------------------------\u001b[0m",
      "\u001b[0;31mKeyError\u001b[0m                                  Traceback (most recent call last)",
      "Cell \u001b[0;32mIn[6], line 1\u001b[0m\n\u001b[0;32m----> 1\u001b[0m \u001b[43mpopulation_n\u001b[49m\u001b[38;5;241;43m.\u001b[39;49m\u001b[43mroster\u001b[49m\u001b[43m[\u001b[49m\u001b[38;5;124;43m'\u001b[39;49m\u001b[38;5;124;43magitated_chebyshev\u001b[39;49m\u001b[38;5;124;43m'\u001b[39;49m\u001b[43m]\u001b[49m\u001b[38;5;241m.\u001b[39mtrajectory\n",
      "\u001b[0;31mKeyError\u001b[0m: 'agitated_chebyshev'"
     ]
    }
   ],
   "source": [
    "population_n.roster['agitated_chebyshev'].trajectory"
   ]
  },
  {
   "cell_type": "code",
   "execution_count": null,
   "id": "75bc2ec4-f1c2-4266-a3a4-9aa9358941cc",
   "metadata": {},
   "outputs": [],
   "source": []
  }
 ],
 "metadata": {
  "kernelspec": {
   "display_name": "conda_py_310_env",
   "language": "python",
   "name": "conda_py_310_env"
  },
  "language_info": {
   "codemirror_mode": {
    "name": "ipython",
    "version": 3
   },
   "file_extension": ".py",
   "mimetype": "text/x-python",
   "name": "python",
   "nbconvert_exporter": "python",
   "pygments_lexer": "ipython3",
   "version": "3.10.6"
  },
  "toc-autonumbering": false
 },
 "nbformat": 4,
 "nbformat_minor": 5
}
